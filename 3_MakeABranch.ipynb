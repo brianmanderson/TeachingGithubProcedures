{
 "cells": [
  {
   "cell_type": "markdown",
   "metadata": {},
   "source": [
    "# Making a branch\n",
    "### Lets say that you want to try something new but do not want it to affect the main branch until you know it is ready. For this you will want to make a new branch"
   ]
  },
  {
   "cell_type": "markdown",
   "metadata": {},
   "source": [
    "### You can make and switch to a new branch with the checkout -b command\n",
    "![title](.\\Pictures\\New_Branchs.PNG)"
   ]
  },
  {
   "cell_type": "markdown",
   "metadata": {},
   "source": [
    "### Check which branch you are currently on with git branch\n",
    "![Branches](.\\Pictures\\Branches.PNG)"
   ]
  },
  {
   "cell_type": "markdown",
   "metadata": {},
   "source": [
    "### Make a change, add, commit and push\n",
    "### On your Github page there will now be a new branch\n",
    "![Pull_Request](.\\Pictures\\Pull_Request.PNG)"
   ]
  },
  {
   "cell_type": "markdown",
   "metadata": {},
   "source": [
    "### If the branches can be merged you can create a new pull request\n",
    "![image.png](./Pictures/Create_Pull_Request.PNG)"
   ]
  },
  {
   "cell_type": "markdown",
   "metadata": {},
   "source": [
    "### You can then merge the dev branch back into the main branch\n",
    "![image.png](./Pictures/Merge.PNG)"
   ]
  },
  {
   "cell_type": "markdown",
   "metadata": {},
   "source": [
    "### You can then merge and delete the old branch\n",
    "![image.png](./Pictures/Merged.PNG)"
   ]
  },
  {
   "cell_type": "markdown",
   "metadata": {},
   "source": [
    "## Switch back to main branch and pull the changes\n",
    "### Since we switched to the 'dev' branch, your local machine is still pointed to dev. Change back to the main branch with 'git checkout main'\n",
    "![image.png](./Pictures/Checkout_Main.PNG)"
   ]
  },
  {
   "cell_type": "markdown",
   "metadata": {},
   "source": [
    "### Pull the changes with git pull\n",
    "![image.png](./Pictures/Pull.PNG)"
   ]
  }
 ],
 "metadata": {
  "kernelspec": {
   "display_name": "Python 3",
   "language": "python",
   "name": "python3"
  },
  "language_info": {
   "codemirror_mode": {
    "name": "ipython",
    "version": 3
   },
   "file_extension": ".py",
   "mimetype": "text/x-python",
   "name": "python",
   "nbconvert_exporter": "python",
   "pygments_lexer": "ipython3",
   "version": "3.6.8"
  }
 },
 "nbformat": 4,
 "nbformat_minor": 2
}
