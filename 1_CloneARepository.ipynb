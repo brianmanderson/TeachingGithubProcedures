{
 "cells": [
  {
   "cell_type": "markdown",
   "metadata": {},
   "source": [
    "# Cloning a repository\n",
    "### If you have a repository already present on github, you can clone it locally with git clone\n",
    "### First, find the repository you want to clone, click 'Code' and copy\n",
    "<img src=\"Pictures/Clone.png\" width=\"1000\">"
   ]
  },
  {
   "cell_type": "markdown",
   "metadata": {},
   "source": [
    "### Locally you can then open a terminal and run\n",
    "### git clone --recurse-submodules -j8 [repo]\n",
    "![image.png](./Pictures/Clone_Recurse.png)"
   ]
  },
  {
   "cell_type": "markdown",
   "metadata": {},
   "source": [
    "### the --recurse-submodules -j8 ensures that all submodules are cloned and pulled as well"
   ]
  }
 ],
 "metadata": {
  "kernelspec": {
   "display_name": "Python 3",
   "language": "python",
   "name": "python3"
  },
  "language_info": {
   "codemirror_mode": {
    "name": "ipython",
    "version": 3
   },
   "file_extension": ".py",
   "mimetype": "text/x-python",
   "name": "python",
   "nbconvert_exporter": "python",
   "pygments_lexer": "ipython3",
   "version": "3.6.8"
  }
 },
 "nbformat": 4,
 "nbformat_minor": 2
}
