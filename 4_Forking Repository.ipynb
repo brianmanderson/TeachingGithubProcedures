{
 "cells": [
  {
   "cell_type": "markdown",
   "metadata": {},
   "source": [
    "# Forking a repository\n",
    "## All instructions can be found at\n",
    "## https://docs.github.com/en/github/collaborating-with-issues-and-pull-requests/working-with-forks/syncing-a-fork\n",
    "### The reason we'd do this if we do not have writing capabilities to the main repository, but still want to have the ability to make our own changes\n",
    "### Note* This does not prevent us from taking the changes made to the 'upstream' branch later on"
   ]
  },
  {
   "attachments": {},
   "cell_type": "markdown",
   "metadata": {},
   "source": [
    "### First, fork the repository\n",
    "![image.png](./Pictures/Fork.png)"
   ]
  },
  {
   "attachments": {},
   "cell_type": "markdown",
   "metadata": {},
   "source": [
    "### This will fork the repository to your own profile\n",
    "![image.png](./Pictures/Forked.png)"
   ]
  },
  {
   "cell_type": "markdown",
   "metadata": {},
   "source": [
    "### Clone the repo as you would normally, check '1_CloneARepository' for instructions"
   ]
  },
  {
   "attachments": {},
   "cell_type": "markdown",
   "metadata": {},
   "source": [
    "# Catching upstream changes with sync\n",
    "### If the owner of the repository makes changes and you want to pull them you will first have to establish an upstream origin\n",
    "![image.png](./Pictures/Add_Upstream.png)\n",
    "### Note that the user is the original repo, not from your repo"
   ]
  },
  {
   "attachments": {},
   "cell_type": "markdown",
   "metadata": {},
   "source": [
    "## View the remotes with git remote -v\n",
    "![image.png](./Pictures/Remote_v.png)"
   ]
  },
  {
   "cell_type": "markdown",
   "metadata": {},
   "source": [
    "## Fetch changes\n",
    "### You can fetch the changes from upstream with git fetch upstream\n",
    "![image.png](./Pictures/Fetch_Upstream.png)"
   ]
  },
  {
   "cell_type": "markdown",
   "metadata": {},
   "source": [
    "## Merge changes\n",
    "### You can merge changes with git merge upstream/master\n",
    "![image.png](./Pictures/Merge_Upstream.png)"
   ]
  },
  {
   "cell_type": "markdown",
   "metadata": {},
   "source": [
    "## Alternatively, this can be done within the GitHub repo\n",
    "![image.png](./Pictures/Fetch_Upstream_Github.png)"
   ]
  }
 ],
 "metadata": {
  "kernelspec": {
   "display_name": "Python 3",
   "language": "python",
   "name": "python3"
  },
  "language_info": {
   "codemirror_mode": {
    "name": "ipython",
    "version": 3
   },
   "file_extension": ".py",
   "mimetype": "text/x-python",
   "name": "python",
   "nbconvert_exporter": "python",
   "pygments_lexer": "ipython3",
   "version": "3.6.8"
  }
 },
 "nbformat": 4,
 "nbformat_minor": 2
}
